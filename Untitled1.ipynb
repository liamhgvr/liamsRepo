{
 "cells": [
  {
   "cell_type": "code",
   "execution_count": 71,
   "metadata": {},
   "outputs": [
    {
     "name": "stdout",
     "output_type": "stream",
     "text": [
      "First 10 0\n",
      "f 10 1\n",
      "f 10 2\n",
      "f 10 3\n",
      "D 20 4\n",
      "f 20 5\n",
      "f 20 6\n",
      "D 30 7\n",
      "D 50 8\n",
      "3\n"
     ]
    }
   ],
   "source": [
    "import math\n",
    "import os\n",
    "import random\n",
    "import re\n",
    "import sys\n",
    "\n",
    "\n",
    "def sockMerchant(n, ar):\n",
    "    res = 0\n",
    "    last = 0\n",
    "    last_index = 0\n",
    "    ar = sorted(ar)\n",
    "    \n",
    "    for i in range(n):\n",
    "        if last == 0:\n",
    "            last = ar[i]\n",
    "            print(\"First\", last, i)\n",
    "        elif last != ar[i]:\n",
    "            last = ar[i]\n",
    "            c = i - last_index\n",
    "            if c > 2:\n",
    "                if c % 2 != 0:\n",
    "                    c = c -1\n",
    "                res = res + c\n",
    "            print(\"D\", last, i)   \n",
    "            last_index = i\n",
    "        else:\n",
    "            last = ar[i]\n",
    "            print(\"f\", last, i)\n",
    "        \n",
    "    return int(res / 2)\n",
    "        \n",
    "\n",
    "if __name__ == '__main__':\n",
    "\n",
    "    n = 9\n",
    "    ar = [10, 20, 20, 10, 10, 30, 50, 10, 20]\n",
    "\n",
    "    print(sockMerchant(n, ar))\n"
   ]
  },
  {
   "cell_type": "code",
   "execution_count": 72,
   "metadata": {},
   "outputs": [],
   "source": [
    "n = 9\n",
    "ar = [10, 20, 20, 10, 10, 30, 50, 10, 20]\n",
    "\n",
    "n2 = 10\n",
    "ar2 = [1, 1, 3, 1, 2, 1, 3, 3, 3, 3]"
   ]
  },
  {
   "cell_type": "code",
   "execution_count": null,
   "metadata": {},
   "outputs": [],
   "source": []
  }
 ],
 "metadata": {
  "kernelspec": {
   "display_name": "Python 2",
   "language": "python",
   "name": "python2"
  },
  "language_info": {
   "codemirror_mode": {
    "name": "ipython",
    "version": 3
   },
   "file_extension": ".py",
   "mimetype": "text/x-python",
   "name": "python",
   "nbconvert_exporter": "python",
   "pygments_lexer": "ipython3",
   "version": "3.7.5"
  }
 },
 "nbformat": 4,
 "nbformat_minor": 2
}
